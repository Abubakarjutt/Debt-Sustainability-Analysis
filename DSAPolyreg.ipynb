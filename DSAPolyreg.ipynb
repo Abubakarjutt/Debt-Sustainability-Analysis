{
 "cells": [
  {
   "cell_type": "code",
   "execution_count": 1,
   "metadata": {},
   "outputs": [
    {
     "data": {
      "text/html": [
       "<div>\n",
       "<style scoped>\n",
       "    .dataframe tbody tr th:only-of-type {\n",
       "        vertical-align: middle;\n",
       "    }\n",
       "\n",
       "    .dataframe tbody tr th {\n",
       "        vertical-align: top;\n",
       "    }\n",
       "\n",
       "    .dataframe thead th {\n",
       "        text-align: right;\n",
       "    }\n",
       "</style>\n",
       "<table border=\"1\" class=\"dataframe\">\n",
       "  <thead>\n",
       "    <tr style=\"text-align: right;\">\n",
       "      <th></th>\n",
       "      <th>Year</th>\n",
       "      <th>ExternelDebt</th>\n",
       "      <th>%ExtDebt</th>\n",
       "      <th>ExtDebtService</th>\n",
       "      <th>%ExtDebtService</th>\n",
       "      <th>DomesticDebt</th>\n",
       "      <th>USDRate</th>\n",
       "      <th>DomDebt</th>\n",
       "      <th>%DomDebt</th>\n",
       "      <th>DomDebtService</th>\n",
       "      <th>...</th>\n",
       "      <th>GDP</th>\n",
       "      <th>%GDP</th>\n",
       "      <th>Exports</th>\n",
       "      <th>%Export</th>\n",
       "      <th>TaxLC</th>\n",
       "      <th>USDRate.1</th>\n",
       "      <th>TaxUSD</th>\n",
       "      <th>%TaxUSD</th>\n",
       "      <th>Remittances</th>\n",
       "      <th>%Remittances</th>\n",
       "    </tr>\n",
       "  </thead>\n",
       "  <tbody>\n",
       "    <tr>\n",
       "      <th>0</th>\n",
       "      <td>1980</td>\n",
       "      <td>9931198662</td>\n",
       "      <td>0.065407</td>\n",
       "      <td>8.687395e+08</td>\n",
       "      <td>0.059735</td>\n",
       "      <td>60838700000</td>\n",
       "      <td>25.12219</td>\n",
       "      <td>2.421712e+09</td>\n",
       "      <td>-0.028163</td>\n",
       "      <td>121085583</td>\n",
       "      <td>...</td>\n",
       "      <td>2.368970e+10</td>\n",
       "      <td>0.186195</td>\n",
       "      <td>2958199879</td>\n",
       "      <td>0.170036</td>\n",
       "      <td>3.126300e+10</td>\n",
       "      <td>25.12219</td>\n",
       "      <td>1244437693</td>\n",
       "      <td>0.204363</td>\n",
       "      <td>2047622437</td>\n",
       "      <td>0.009516</td>\n",
       "    </tr>\n",
       "    <tr>\n",
       "      <th>1</th>\n",
       "      <td>1981</td>\n",
       "      <td>10580767700</td>\n",
       "      <td>0.065407</td>\n",
       "      <td>9.206338e+08</td>\n",
       "      <td>0.059735</td>\n",
       "      <td>59125300000</td>\n",
       "      <td>25.12219</td>\n",
       "      <td>2.353509e+09</td>\n",
       "      <td>-0.028163</td>\n",
       "      <td>117675450</td>\n",
       "      <td>...</td>\n",
       "      <td>2.810061e+10</td>\n",
       "      <td>0.186195</td>\n",
       "      <td>3461199646</td>\n",
       "      <td>0.170036</td>\n",
       "      <td>3.765200e+10</td>\n",
       "      <td>25.12219</td>\n",
       "      <td>1498754694</td>\n",
       "      <td>0.204363</td>\n",
       "      <td>2067108154</td>\n",
       "      <td>0.009516</td>\n",
       "    </tr>\n",
       "    <tr>\n",
       "      <th>2</th>\n",
       "      <td>1982</td>\n",
       "      <td>11703994182</td>\n",
       "      <td>0.106157</td>\n",
       "      <td>8.846406e+08</td>\n",
       "      <td>-0.039096</td>\n",
       "      <td>82883000000</td>\n",
       "      <td>25.12219</td>\n",
       "      <td>3.299195e+09</td>\n",
       "      <td>0.401820</td>\n",
       "      <td>164959744</td>\n",
       "      <td>...</td>\n",
       "      <td>3.072597e+10</td>\n",
       "      <td>0.093427</td>\n",
       "      <td>3055880787</td>\n",
       "      <td>-0.117104</td>\n",
       "      <td>4.109900e+10</td>\n",
       "      <td>25.12219</td>\n",
       "      <td>1635964070</td>\n",
       "      <td>0.091549</td>\n",
       "      <td>2588121582</td>\n",
       "      <td>0.252049</td>\n",
       "    </tr>\n",
       "    <tr>\n",
       "      <th>3</th>\n",
       "      <td>1983</td>\n",
       "      <td>12026223274</td>\n",
       "      <td>0.027532</td>\n",
       "      <td>1.344928e+09</td>\n",
       "      <td>0.520310</td>\n",
       "      <td>105362800000</td>\n",
       "      <td>25.12219</td>\n",
       "      <td>4.194013e+09</td>\n",
       "      <td>0.271223</td>\n",
       "      <td>209700668</td>\n",
       "      <td>...</td>\n",
       "      <td>2.869189e+10</td>\n",
       "      <td>-0.066201</td>\n",
       "      <td>3419646228</td>\n",
       "      <td>0.119038</td>\n",
       "      <td>4.659900e+10</td>\n",
       "      <td>25.12219</td>\n",
       "      <td>1854894029</td>\n",
       "      <td>0.133823</td>\n",
       "      <td>2940239990</td>\n",
       "      <td>0.136052</td>\n",
       "    </tr>\n",
       "    <tr>\n",
       "      <th>4</th>\n",
       "      <td>1984</td>\n",
       "      <td>12227885012</td>\n",
       "      <td>0.016769</td>\n",
       "      <td>1.252984e+09</td>\n",
       "      <td>-0.068363</td>\n",
       "      <td>126870900000</td>\n",
       "      <td>25.12219</td>\n",
       "      <td>5.050153e+09</td>\n",
       "      <td>0.204134</td>\n",
       "      <td>252507645</td>\n",
       "      <td>...</td>\n",
       "      <td>3.115182e+10</td>\n",
       "      <td>0.085736</td>\n",
       "      <td>3448628354</td>\n",
       "      <td>0.008475</td>\n",
       "      <td>5.570100e+10</td>\n",
       "      <td>25.12219</td>\n",
       "      <td>2217203209</td>\n",
       "      <td>0.195326</td>\n",
       "      <td>2580805664</td>\n",
       "      <td>-0.122247</td>\n",
       "    </tr>\n",
       "  </tbody>\n",
       "</table>\n",
       "<p>5 rows × 25 columns</p>\n",
       "</div>"
      ],
      "text/plain": [
       "   Year  ExternelDebt  %ExtDebt  ExtDebtService  %ExtDebtService  \\\n",
       "0  1980    9931198662  0.065407    8.687395e+08         0.059735   \n",
       "1  1981   10580767700  0.065407    9.206338e+08         0.059735   \n",
       "2  1982   11703994182  0.106157    8.846406e+08        -0.039096   \n",
       "3  1983   12026223274  0.027532    1.344928e+09         0.520310   \n",
       "4  1984   12227885012  0.016769    1.252984e+09        -0.068363   \n",
       "\n",
       "   DomesticDebt   USDRate       DomDebt  %DomDebt  DomDebtService  ...  \\\n",
       "0   60838700000  25.12219  2.421712e+09 -0.028163       121085583  ...   \n",
       "1   59125300000  25.12219  2.353509e+09 -0.028163       117675450  ...   \n",
       "2   82883000000  25.12219  3.299195e+09  0.401820       164959744  ...   \n",
       "3  105362800000  25.12219  4.194013e+09  0.271223       209700668  ...   \n",
       "4  126870900000  25.12219  5.050153e+09  0.204134       252507645  ...   \n",
       "\n",
       "            GDP      %GDP     Exports   %Export         TaxLC  USDRate.1  \\\n",
       "0  2.368970e+10  0.186195  2958199879  0.170036  3.126300e+10   25.12219   \n",
       "1  2.810061e+10  0.186195  3461199646  0.170036  3.765200e+10   25.12219   \n",
       "2  3.072597e+10  0.093427  3055880787 -0.117104  4.109900e+10   25.12219   \n",
       "3  2.869189e+10 -0.066201  3419646228  0.119038  4.659900e+10   25.12219   \n",
       "4  3.115182e+10  0.085736  3448628354  0.008475  5.570100e+10   25.12219   \n",
       "\n",
       "       TaxUSD   %TaxUSD  Remittances  %Remittances  \n",
       "0  1244437693  0.204363   2047622437      0.009516  \n",
       "1  1498754694  0.204363   2067108154      0.009516  \n",
       "2  1635964070  0.091549   2588121582      0.252049  \n",
       "3  1854894029  0.133823   2940239990      0.136052  \n",
       "4  2217203209  0.195326   2580805664     -0.122247  \n",
       "\n",
       "[5 rows x 25 columns]"
      ]
     },
     "execution_count": 1,
     "metadata": {},
     "output_type": "execute_result"
    }
   ],
   "source": [
    "from sklearn.linear_model import LinearRegression\n",
    "from sklearn.metrics import mean_squared_error, r2_score\n",
    "from sklearn.preprocessing import PolynomialFeatures\n",
    "import sklearn\n",
    "import pandas as pd\n",
    "import numpy as np\n",
    "import matplotlib.pyplot as plt  \n",
    "import seaborn as sns\n",
    "%matplotlib inline\n",
    "data = pd.read_csv('C://Users/HP/Desktop/New folder/DSA regression.csv')\n",
    "data.head()"
   ]
  },
  {
   "cell_type": "code",
   "execution_count": 8,
   "metadata": {},
   "outputs": [
    {
     "name": "stdout",
     "output_type": "stream",
     "text": [
      "[[ 0.00000000e+00  3.13491731e+13 -1.57292161e+10  2.63075132e+06]]\n",
      "R squared is 0.9641854417953486\n"
     ]
    },
    {
     "data": {
      "image/png": "[encoded data removed]",
      "text/plain": [
       "<Figure size 432x288 with 1 Axes>"
      ]
     },
     "metadata": {
      "needs_background": "light"
     },
     "output_type": "display_data"
    },
    {
     "data": {
      "text/plain": [
       "[[array([[9.52647863e+10],\n",
       "         [1.01747231e+11],\n",
       "         [1.08655950e+11],\n",
       "         [1.16006727e+11],\n",
       "         [1.23815347e+11],\n",
       "         [1.32097594e+11],\n",
       "         [1.40869253e+11],\n",
       "         [1.50146108e+11],\n",
       "         [1.59943944e+11],\n",
       "         [1.70278545e+11],\n",
       "         [1.81165696e+11],\n",
       "         [1.92621181e+11],\n",
       "         [2.04660785e+11],\n",
       "         [2.17300293e+11],\n",
       "         [2.30555488e+11],\n",
       "         [2.44442155e+11],\n",
       "         [2.58976080e+11],\n",
       "         [2.74173046e+11],\n",
       "         [2.90048837e+11],\n",
       "         [3.06619239e+11]])]]"
      ]
     },
     "execution_count": 8,
     "metadata": {},
     "output_type": "execute_result"
    }
   ],
   "source": [
    "# External Debt\n",
    "\n",
    "x= data.iloc[:, 0:1]\n",
    "y= data.iloc[:, 1:2]\n",
    "polynomial_features= PolynomialFeatures(degree=3)\n",
    "x_poly = polynomial_features.fit_transform(x)\n",
    "\n",
    "model = LinearRegression()\n",
    "model.fit(x_poly, y)\n",
    "y_poly_pred = model.predict(x_poly)\n",
    "\n",
    "print(model.coef_)\n",
    "r2 = r2_score(y,y_poly_pred)\n",
    "print(\"R squared is\", r2)\n",
    "\n",
    "plt.scatter(x, y, s=10, color =\"r\")\n",
    "plt.plot(x, y_poly_pred, color='m')\n",
    "plt.show()\n",
    "\n",
    "DSA = pd.read_csv('C://Users/HP/Desktop/DSApolyreg.csv')\n",
    "X= DSA.iloc[:, 0:1]\n",
    "X_poly = polynomial_features.fit_transform(X)\n",
    "Y = [[model.predict(X_poly)]]\n",
    "Y"
   ]
  },
  {
   "cell_type": "code",
   "execution_count": 11,
   "metadata": {},
   "outputs": [
    {
     "name": "stdout",
     "output_type": "stream",
     "text": [
      "R squared is 0.933882150562755\n",
      "[[ 0.00000000e+00 -5.57747433e+11  1.40289389e+08]]\n"
     ]
    },
    {
     "data": {
      "image/png": "[encoded data removed]",
      "text/plain": [
       "<Figure size 432x288 with 1 Axes>"
      ]
     },
     "metadata": {
      "needs_background": "light"
     },
     "output_type": "display_data"
    },
    {
     "data": {
      "text/plain": [
       "[[array([[1.42417777e+11],\n",
       "         [1.51299185e+11],\n",
       "         [1.60461171e+11],\n",
       "         [1.69903737e+11],\n",
       "         [1.79626881e+11],\n",
       "         [1.89630604e+11],\n",
       "         [1.99914905e+11],\n",
       "         [2.10479786e+11],\n",
       "         [2.21325245e+11],\n",
       "         [2.32451283e+11],\n",
       "         [2.43857899e+11],\n",
       "         [2.55545095e+11],\n",
       "         [2.67512869e+11],\n",
       "         [2.79761222e+11],\n",
       "         [2.92290154e+11],\n",
       "         [3.05099665e+11],\n",
       "         [3.18189754e+11],\n",
       "         [3.31560422e+11],\n",
       "         [3.45211669e+11],\n",
       "         [3.59143495e+11],\n",
       "         [3.73355899e+11]])]]"
      ]
     },
     "execution_count": 11,
     "metadata": {},
     "output_type": "execute_result"
    }
   ],
   "source": [
    "#Domestic Debt\n",
    "\n",
    "x= data.iloc[:, 0:1]\n",
    "y= data.iloc[:, 3:4]\n",
    "polynomial_features= PolynomialFeatures(degree=2)\n",
    "x_poly = polynomial_features.fit_transform(x)\n",
    "\n",
    "model = LinearRegression()\n",
    "model.fit(x_poly, y)\n",
    "y_poly_pred = model.predict(x_poly)\n",
    "\n",
    "rmse = np.sqrt(mean_squared_error(y,y_poly_pred))\n",
    "r2 = r2_score(y,y_poly_pred)\n",
    "print(\"R squared is\", r2)\n",
    "print(model.coef_)\n",
    "plt.scatter(x, y, s=10)\n",
    "plt.plot(x, y_poly_pred, color='m')\n",
    "plt.show()\n",
    "\n",
    "DSA = pd.read_csv('C://Users/HP/Desktop/DSApolyreg.csv')\n",
    "X= DSA.iloc[:, 0:1]\n",
    "\n",
    "X_poly = polynomial_features.fit_transform(X)\n",
    "Y = [[model.predict(X_poly)]]\n",
    "Y"
   ]
  },
  {
   "cell_type": "code",
   "execution_count": 12,
   "metadata": {},
   "outputs": [
    {
     "name": "stdout",
     "output_type": "stream",
     "text": [
      "R squared is 0.986144429306634\n",
      "[[ 0.00000000e+00 -1.17280021e+12  2.95139812e+08]]\n"
     ]
    },
    {
     "data": {
      "image/png": "[encoded data removed]",
      "text/plain": [
       "<Figure size 432x288 with 1 Axes>"
      ]
     },
     "metadata": {
      "needs_background": "light"
     },
     "output_type": "display_data"
    },
    {
     "data": {
      "text/plain": [
       "[[array([[3.33324909e+11],\n",
       "         [3.52594398e+11],\n",
       "         [3.72454167e+11],\n",
       "         [3.92904216e+11],\n",
       "         [4.13944544e+11],\n",
       "         [4.35575151e+11],\n",
       "         [4.57796039e+11],\n",
       "         [4.80607206e+11],\n",
       "         [5.04008652e+11],\n",
       "         [5.28000378e+11],\n",
       "         [5.52582384e+11],\n",
       "         [5.77754670e+11],\n",
       "         [6.03517235e+11],\n",
       "         [6.29870079e+11],\n",
       "         [6.56813204e+11],\n",
       "         [6.84346608e+11],\n",
       "         [7.12470291e+11],\n",
       "         [7.41184254e+11],\n",
       "         [7.70488497e+11],\n",
       "         [8.00383020e+11],\n",
       "         [8.30867822e+11]])]]"
      ]
     },
     "execution_count": 12,
     "metadata": {},
     "output_type": "execute_result"
    }
   ],
   "source": [
    "# GDP\n",
    "\n",
    "x= data.iloc[:, 0:1]\n",
    "y= data.iloc[:, 7:8]\n",
    "polynomial_features= PolynomialFeatures(degree=2)\n",
    "x_poly = polynomial_features.fit_transform(x)\n",
    "model = LinearRegression()\n",
    "model.fit(x_poly, y)\n",
    "y_poly_pred = model.predict(x_poly)\n",
    "rmse = np.sqrt(mean_squared_error(y,y_poly_pred))\n",
    "r2 = r2_score(y,y_poly_pred)\n",
    "\n",
    "print(\"R squared is\", r2)\n",
    "print(model.coef_)\n",
    "plt.scatter(x, y, s=10)\n",
    "plt.plot(x, y_poly_pred, color='m')\n",
    "plt.show()\n",
    "\n",
    "DSA = pd.read_csv('C://Users/HP/Desktop/DSApolyreg.csv')\n",
    "X= DSA.iloc[:, 0:1]\n",
    "\n",
    "X_poly = polynomial_features.fit_transform(X)\n",
    "Y = [[model.predict(X_poly)]]\n",
    "Y"
   ]
  },
  {
   "cell_type": "code",
   "execution_count": 13,
   "metadata": {},
   "outputs": [
    {
     "name": "stdout",
     "output_type": "stream",
     "text": [
      "R squared is 0.9193442048848635\n",
      "[[ 0.00000000e+00 -4.60651642e+10  1.17109839e+07]]\n"
     ]
    },
    {
     "data": {
      "image/png": "[encoded data removed]",
      "text/plain": [
       "<Figure size 432x288 with 1 Axes>"
      ]
     },
     "metadata": {
      "needs_background": "light"
     },
     "output_type": "display_data"
    },
    {
     "data": {
      "text/plain": [
       "array([[3.19698146e+10],\n",
       "       [3.32053145e+10],\n",
       "       [3.44642364e+10],\n",
       "       [3.57465803e+10],\n",
       "       [3.70523461e+10],\n",
       "       [3.83815339e+10],\n",
       "       [3.97341436e+10],\n",
       "       [4.11101753e+10],\n",
       "       [4.25096290e+10],\n",
       "       [4.39325047e+10],\n",
       "       [4.53788023e+10],\n",
       "       [4.68485219e+10],\n",
       "       [4.83416635e+10],\n",
       "       [4.98582270e+10],\n",
       "       [5.13982125e+10],\n",
       "       [5.29616200e+10],\n",
       "       [5.45484494e+10],\n",
       "       [5.61587008e+10],\n",
       "       [5.77923742e+10],\n",
       "       [5.94494695e+10],\n",
       "       [6.11299868e+10]])"
      ]
     },
     "execution_count": 13,
     "metadata": {},
     "output_type": "execute_result"
    }
   ],
   "source": [
    "# Exports\n",
    "\n",
    "x= data.iloc[:, 0:1]\n",
    "y= data.iloc[:, 8:9]\n",
    "polynomial_features= PolynomialFeatures(degree=2)\n",
    "x_poly = polynomial_features.fit_transform(x)\n",
    "\n",
    "model = LinearRegression()\n",
    "model.fit(x_poly, y)\n",
    "y_poly_pred = model.predict(x_poly)\n",
    "\n",
    "rmse = np.sqrt(mean_squared_error(y,y_poly_pred))\n",
    "r2 = r2_score(y,y_poly_pred)\n",
    "print(\"R squared is\", r2)\n",
    "print(model.coef_)\n",
    "plt.scatter(x, y, s=10)\n",
    "plt.plot(x, y_poly_pred, color='m')\n",
    "plt.show()\n",
    "\n",
    "DSA = pd.read_csv('C://Users/HP/Desktop/DSApolyreg.csv')\n",
    "X= DSA.iloc[:, 0:1]\n",
    "\n",
    "X_poly = polynomial_features.fit_transform(X)\n",
    "Y = model.predict(X_poly)\n",
    "Y"
   ]
  },
  {
   "cell_type": "code",
   "execution_count": 14,
   "metadata": {},
   "outputs": [
    {
     "name": "stdout",
     "output_type": "stream",
     "text": [
      "R squared is 0.9697633544395949\n",
      "[[ 0.00000000e+00 -1.11155627e+11  2.79803059e+07]]\n"
     ]
    },
    {
     "data": {
      "image/png": "[encoded data removed]",
      "text/plain": [
       "<Figure size 432x288 with 1 Axes>"
      ]
     },
     "metadata": {
      "needs_background": "light"
     },
     "output_type": "display_data"
    },
    {
     "data": {
      "text/plain": [
       "array([[3.19769925e+10],\n",
       "       [3.38338208e+10],\n",
       "       [3.57466097e+10],\n",
       "       [3.77153592e+10],\n",
       "       [3.97400693e+10],\n",
       "       [4.18207400e+10],\n",
       "       [4.39573714e+10],\n",
       "       [4.61499633e+10],\n",
       "       [4.83985159e+10],\n",
       "       [5.07030291e+10],\n",
       "       [5.30635029e+10],\n",
       "       [5.54799373e+10],\n",
       "       [5.79523323e+10],\n",
       "       [6.04806879e+10],\n",
       "       [6.30650041e+10],\n",
       "       [6.57052810e+10],\n",
       "       [6.84015184e+10],\n",
       "       [7.11537165e+10],\n",
       "       [7.39618752e+10],\n",
       "       [7.68259945e+10],\n",
       "       [7.97460744e+10]])"
      ]
     },
     "execution_count": 14,
     "metadata": {},
     "output_type": "execute_result"
    }
   ],
   "source": [
    "# Tax \n",
    "x= data.iloc[:, 0:1]\n",
    "y= data.iloc[:, 9:10]\n",
    "polynomial_features= PolynomialFeatures(degree=2)\n",
    "x_poly = polynomial_features.fit_transform(x)\n",
    "\n",
    "model = LinearRegression()\n",
    "model.fit(x_poly, y)\n",
    "y_poly_pred = model.predict(x_poly)\n",
    "\n",
    "rmse = np.sqrt(mean_squared_error(y,y_poly_pred))\n",
    "r2 = r2_score(y,y_poly_pred)\n",
    "print(\"R squared is\", r2)\n",
    "print(model.coef_)\n",
    "plt.scatter(x, y, s=10)\n",
    "plt.plot(x, y_poly_pred, color='m')\n",
    "plt.show()\n",
    "\n",
    "DSA = pd.read_csv('C://Users/HP/Desktop/DSApolyreg.csv')\n",
    "X= DSA.iloc[:, 0:1]\n",
    "\n",
    "X_poly = polynomial_features.fit_transform(X)\n",
    "Y = model.predict(X_poly)\n",
    "Y"
   ]
  },
  {
   "cell_type": "code",
   "execution_count": 15,
   "metadata": {},
   "outputs": [
    {
     "name": "stdout",
     "output_type": "stream",
     "text": [
      "R squared is 0.9606355590122857\n",
      "[[ 0.00000000e+00 -1.20559046e+11  3.02646177e+07]]\n"
     ]
    },
    {
     "data": {
      "image/png": "[encoded data removed]",
      "text/plain": [
       "<Figure size 432x288 with 1 Axes>"
      ]
     },
     "metadata": {
      "needs_background": "light"
     },
     "output_type": "display_data"
    },
    {
     "data": {
      "text/plain": [
       "array([[2.29447496e+10],\n",
       "       [2.46244949e+10],\n",
       "       [2.63647695e+10],\n",
       "       [2.81655733e+10],\n",
       "       [3.00269064e+10],\n",
       "       [3.19487687e+10],\n",
       "       [3.39311602e+10],\n",
       "       [3.59740810e+10],\n",
       "       [3.80775310e+10],\n",
       "       [4.02415102e+10],\n",
       "       [4.24660187e+10],\n",
       "       [4.47510564e+10],\n",
       "       [4.70966233e+10],\n",
       "       [4.95027195e+10],\n",
       "       [5.19693449e+10],\n",
       "       [5.44964995e+10],\n",
       "       [5.70841834e+10],\n",
       "       [5.97323965e+10],\n",
       "       [6.24411389e+10],\n",
       "       [6.52104105e+10],\n",
       "       [6.80402113e+10]])"
      ]
     },
     "execution_count": 15,
     "metadata": {},
     "output_type": "execute_result"
    }
   ],
   "source": [
    "# Remitances\n",
    "\n",
    "x= data.iloc[:, 0:1]\n",
    "y= data.iloc[:, 10:11]\n",
    "polynomial_features= PolynomialFeatures(degree=2)\n",
    "x_poly = polynomial_features.fit_transform(x)\n",
    "\n",
    "model = LinearRegression()\n",
    "model.fit(x_poly, y)\n",
    "y_poly_pred = model.predict(x_poly)\n",
    "\n",
    "rmse = np.sqrt(mean_squared_error(y,y_poly_pred))\n",
    "r2 = r2_score(y,y_poly_pred)\n",
    "print(\"R squared is\", r2)\n",
    "print(model.coef_)\n",
    "plt.scatter(x, y, s=10)\n",
    "plt.plot(x, y_poly_pred, color='m')\n",
    "plt.show()\n",
    "\n",
    "DSA = pd.read_csv('C://Users/HP/Desktop/DSApolyreg.csv')\n",
    "X= DSA.iloc[:, 0:1]\n",
    "\n",
    "X_poly = polynomial_features.fit_transform(X)\n",
    "Y = model.predict(X_poly)\n",
    "Y"
   ]
  },
  {
   "cell_type": "code",
   "execution_count": 16,
   "metadata": {},
   "outputs": [
    {
     "name": "stdout",
     "output_type": "stream",
     "text": [
      "R squared is 0.729844709020028\n",
      "[[ 0.00000000e+00 -5.53596730e+09  1.41300895e+06]]\n"
     ]
    },
    {
     "data": {
      "image/png": "[encoded data removed]",
      "text/plain": [
       "<Figure size 432x288 with 1 Axes>"
      ]
     },
     "metadata": {
      "needs_background": "light"
     },
     "output_type": "display_data"
    },
    {
     "data": {
      "text/plain": [
       "array([[5.65506799e+09],\n",
       "       [5.82624383e+09],\n",
       "       [6.00024569e+09],\n",
       "       [6.17707356e+09],\n",
       "       [6.35672746e+09],\n",
       "       [6.53920737e+09],\n",
       "       [6.72451330e+09],\n",
       "       [6.91264525e+09],\n",
       "       [7.10360321e+09],\n",
       "       [7.29738720e+09],\n",
       "       [7.49399720e+09],\n",
       "       [7.69343322e+09],\n",
       "       [7.89569526e+09],\n",
       "       [8.10078331e+09],\n",
       "       [8.30869738e+09],\n",
       "       [8.51943748e+09],\n",
       "       [8.73300358e+09],\n",
       "       [8.94939571e+09],\n",
       "       [9.16861386e+09],\n",
       "       [9.39065802e+09],\n",
       "       [9.61552820e+09]])"
      ]
     },
     "execution_count": 16,
     "metadata": {},
     "output_type": "execute_result"
    }
   ],
   "source": [
    "#External Debt Service\n",
    "\n",
    "x= data.iloc[:, 0:1]\n",
    "y= data.iloc[:, 2:3]\n",
    "polynomial_features= PolynomialFeatures(degree=2)\n",
    "x_poly = polynomial_features.fit_transform(x)\n",
    "\n",
    "model = LinearRegression()\n",
    "model.fit(x_poly, y)\n",
    "y_poly_pred = model.predict(x_poly)\n",
    "\n",
    "rmse = np.sqrt(mean_squared_error(y,y_poly_pred))\n",
    "r2 = r2_score(y,y_poly_pred)\n",
    "print(\"R squared is\", r2)\n",
    "print(model.coef_)\n",
    "plt.scatter(x, y, s=10)\n",
    "plt.plot(x, y_poly_pred, color='m')\n",
    "plt.show()\n",
    "\n",
    "DSA = pd.read_csv('C://Users/HP/Desktop/DSApolyreg.csv')\n",
    "X= DSA.iloc[:, 0:1]\n",
    "\n",
    "X_poly = polynomial_features.fit_transform(X)\n",
    "Y = model.predict(X_poly)\n",
    "Y"
   ]
  },
  {
   "cell_type": "code",
   "execution_count": 19,
   "metadata": {},
   "outputs": [
    {
     "name": "stdout",
     "output_type": "stream",
     "text": [
      "R squared is 0.933882150560676\n",
      "[[ 0.00000000e+00 -2.78873717e+10  7.01446943e+06]]\n"
     ]
    },
    {
     "data": {
      "image/png": "[encoded data removed]",
      "text/plain": [
       "<Figure size 432x288 with 1 Axes>"
      ]
     },
     "metadata": {
      "needs_background": "light"
     },
     "output_type": "display_data"
    },
    {
     "data": {
      "text/plain": [
       "array([[7.12088886e+09],\n",
       "       [7.56495924e+09],\n",
       "       [8.02305857e+09],\n",
       "       [8.49518683e+09],\n",
       "       [8.98134404e+09],\n",
       "       [9.48153018e+09],\n",
       "       [9.99574526e+09],\n",
       "       [1.05239893e+10],\n",
       "       [1.10662622e+10],\n",
       "       [1.16225641e+10],\n",
       "       [1.21928950e+10],\n",
       "       [1.27772547e+10],\n",
       "       [1.33756435e+10],\n",
       "       [1.39880611e+10],\n",
       "       [1.46145077e+10],\n",
       "       [1.52549832e+10],\n",
       "       [1.59094877e+10],\n",
       "       [1.65780211e+10],\n",
       "       [1.72605835e+10],\n",
       "       [1.79571747e+10],\n",
       "       [1.86677950e+10]])"
      ]
     },
     "execution_count": 19,
     "metadata": {},
     "output_type": "execute_result"
    }
   ],
   "source": [
    "#Domestic Debt service\n",
    "\n",
    "x= data.iloc[:, 0:1]\n",
    "y= data.iloc[:, 4:5]\n",
    "polynomial_features= PolynomialFeatures(degree=2)\n",
    "x_poly = polynomial_features.fit_transform(x)\n",
    "\n",
    "model = LinearRegression()\n",
    "model.fit(x_poly, y)\n",
    "y_poly_pred = model.predict(x_poly)\n",
    "\n",
    "rmse = np.sqrt(mean_squared_error(y,y_poly_pred))\n",
    "r2 = r2_score(y,y_poly_pred)\n",
    "print(\"R squared is\", r2)\n",
    "print(model.coef_)\n",
    "plt.scatter(x, y, s=10)\n",
    "plt.plot(x, y_poly_pred, color='m')\n",
    "plt.show()\n",
    "\n",
    "DSA = pd.read_csv('C://Users/HP/Desktop/DSApolyreg.csv')\n",
    "X= DSA.iloc[:, 0:1]\n",
    "\n",
    "X_poly = polynomial_features.fit_transform(X)\n",
    "Y = model.predict(X_poly)\n",
    "Y"
   ]
  },
  {
   "cell_type": "code",
   "execution_count": null,
   "metadata": {},
   "outputs": [],
   "source": []
  },
  {
   "cell_type": "code",
   "execution_count": null,
   "metadata": {},
   "outputs": [],
   "source": [
    "\n"
   ]
  },
  {
   "cell_type": "code",
   "execution_count": null,
   "metadata": {},
   "outputs": [],
   "source": []
  }
 ],
 "metadata": {
  "kernelspec": {
   "display_name": "Python 3",
   "language": "python",
   "name": "python3"
  },
  "language_info": {
   "codemirror_mode": {
    "name": "ipython",
    "version": 3
   },
   "file_extension": ".py",
   "mimetype": "text/x-python",
   "name": "python",
   "nbconvert_exporter": "python",
   "pygments_lexer": "ipython3",
   "version": "3.7.3"
  }
 },
 "nbformat": 4,
 "nbformat_minor": 2
}
